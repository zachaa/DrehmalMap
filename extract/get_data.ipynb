{
 "cells": [
  {
   "cell_type": "code",
   "execution_count": 1,
   "metadata": {},
   "outputs": [],
   "source": [
    "import datetime as dt\n",
    "import json\n",
    "import time\n",
    "from enum import Enum, auto\n",
    "from pathlib import Path\n",
    "\n",
    "import numpy as np\n",
    "import nbtlib\n",
    "import mcworldlib as mc"
   ]
  },
  {
   "cell_type": "code",
   "execution_count": 2,
   "metadata": {},
   "outputs": [],
   "source": [
    "PATH_DREHMAL_SAVE = Path(r\"C:\\Users\\Zachary\\AppData\\Roaming\\.minecraft_drehmal\\saves\\Drehmal APOTHEOSIS 2.2.0\")\n",
    "PATH_DREHMAL_level_dat = Path(r\"C:\\Users\\Zachary\\AppData\\Roaming\\.minecraft_drehmal\\saves\\Drehmal APOTHEOSIS 2.2.0\\level.dat\")\n",
    "\n",
    "SAVE_DIRECTORY = Path(\"../data_raw/\").resolve()\n",
    "\n",
    "class Dimension(Enum):\n",
    "    Overworld = 1\n",
    "    End = 2\n",
    "    Space = 3\n",
    "    Lodahr = 4\n",
    "    TrueEnd = 5\n",
    "\n",
    "class MajorItem(Enum):\n",
    "    Default = 0\n",
    "    Chest = 1\n",
    "    Barrel = 2\n",
    "    Shulker = 3\n",
    "    Lectern = 4\n",
    "    Artifact = auto()\n",
    "    Artisan = auto()\n",
    "    Trinket = auto()\n",
    "    Legendary = auto()\n",
    "    Mythical = auto()\n",
    "    # Items\n",
    "    DivineBauble = auto()\n",
    "    RunicCatalyst = auto()\n",
    "    RunicAmplifier = auto()\n",
    "    RelicVessel = auto()\n",
    "    ScrollOfSanctuary = auto()  # Trinket\n",
    "    # Special\n",
    "    StoneAgony = auto()\n",
    "    StoneLuxury = auto()\n",
    "    StoneWorry = auto()\n",
    "    # Lore (written_book, writable_book, some paper)\n",
    "    LoreBook = auto()\n",
    "    # Apples\n",
    "    GayApple = auto()\n",
    "    GodApple = auto()\n",
    "    # Other\n",
    "    # Nihilist Notes\n",
    "    # Compass of Nihility\n",
    "    # Snake Ornamented Compass\n",
    "    # Lotus Shaped Compass\n",
    "    # Netherite items (3)\n",
    "    WitherSkull = auto()\n",
    "\n",
    "DIMENSION = {Dimension.Overworld: \"region/\",\n",
    "             Dimension.End: \"DIM1/region/\",\n",
    "             Dimension.Space: \"dimensions/minecraft/space/\",\n",
    "             Dimension.Lodahr: \"dimensions/minecraft/lodahr/\",\n",
    "             Dimension.TrueEnd: \"dimensions/minecraft/true_end/\"}\n",
    "\n",
    "# Item frames are entities\n",
    "TILE_ENTITIES_ITEMS = {\"minecraft:chest\", \"minecraft:trapped_chest\",\n",
    "                      \"minecraft:barrel\",\n",
    "                      \"minecraft:brewing_stand\",\n",
    "                      \"minecraft:smoker\",\n",
    "                      \"minecraft:dispenser\",\n",
    "                      \"minecraft:dropper\",\n",
    "                      \"minecraft:furnace\",\n",
    "                      \"minecraft:blast_furnace\",\n",
    "                      \"minecraft:hopper\",\n",
    "                      \"minecraft:shulker_box\",\n",
    "                      \"minecraft:white_shulker_box\",\n",
    "                      \"minecraft:orange_shulker_box\",\n",
    "                      \"minecraft:magenta_shulker_box\",\n",
    "                      \"minecraft:light_blue_shulker_box\",\n",
    "                      \"minecraft:yellow_shulker_box\",\n",
    "                      \"minecraft:lime_shulker_box\",\n",
    "                      \"minecraft:pink_shulker_box\",\n",
    "                      \"minecraft:gray_shulker_box\",\n",
    "                      \"minecraft:light_gray_shulker_box\",\n",
    "                      \"minecraft:cyan_shulker_box\",\n",
    "                      \"minecraft:purple_shulker_box\",\n",
    "                      \"minecraft:blue_shulker_box\",\n",
    "                      \"minecraft:brown_shulker_box\",\n",
    "                      \"minecraft:green_shulker_box\",\n",
    "                      \"minecraft:red_shulker_box\",\n",
    "                      \"minecraft:black_shulker_box\"}\n",
    "TILE_ENTITIES_BOOK = {\"minecraft:lectern\"}\n",
    "TILE_ENTITIES_OTHER = {\"minecraft:wither_skeleton_skull\",\n",
    "                       \"minecraft:wither_skeleton_wall_skull\",\n",
    "                       \"minecraft:ender_chest\"}\n",
    "KEEP_TILE_ENTITIES = TILE_ENTITIES_ITEMS | TILE_ENTITIES_BOOK | TILE_ENTITIES_ITEMS"
   ]
  },
  {
   "cell_type": "code",
   "execution_count": 11,
   "metadata": {},
   "outputs": [],
   "source": [
    "# Coordinate ranges\n",
    "COORDINATES = {\n",
    "    \"Overworld\": {\"x_min\": -5632,\n",
    "                  \"x_max\": 7167,\n",
    "                  \"z_min\": -5120,\n",
    "                  \"z_max\": 7679}\n",
    "}"
   ]
  },
  {
   "cell_type": "code",
   "execution_count": 3,
   "metadata": {},
   "outputs": [
    {
     "name": "stdout",
     "output_type": "stream",
     "text": [
      "True\n"
     ]
    }
   ],
   "source": [
    "print(PATH_DREHMAL_level_dat.exists())"
   ]
  },
  {
   "cell_type": "markdown",
   "metadata": {},
   "source": [
    "# Setup"
   ]
  },
  {
   "cell_type": "code",
   "execution_count": 7,
   "metadata": {},
   "outputs": [
    {
     "name": "stdout",
     "output_type": "stream",
     "text": [
      "{   <Dimension.OVERWORLD: 0>: <Regions(937 regions)>,\n",
      "    <Dimension.THE_NETHER: -1>: <Regions(4 regions)>,\n",
      "    <Dimension.THE_END: 1>: <Regions(39 regions)>}\n",
      "Count of regions: 937\n"
     ]
    }
   ],
   "source": [
    "world = mc.load(PATH_DREHMAL_level_dat)\n",
    "mc.pretty(world.regions)\n",
    "regions = world.regions[mc.OVERWORLD]\n",
    "print(\"Count of regions:\", len(regions))\n",
    "entities = world.entities[mc.OVERWORLD]\n",
    "# # print(regions[0, 0])\n",
    "# print(type(regions), type(entities))\n",
    "# print(len(regions), len(entities))  # count of regions in a world\n",
    "# region = regions[0, 0]\n",
    "# region_entities = entities[0, 0]\n",
    "# print(len(region), len(region_entities))  # count of chunks in a region (1024 = 32*32)\n",
    "# chunk = region[0, 0]  # 0->31\n",
    "# chunk_entities = region_entities[0, 2]  # nothing at 0,0\n",
    "# # mc.pretty(region)\n",
    "# # mc.pretty(chunk)\n",
    "# chunk[\"Level\"].keys()"
   ]
  },
  {
   "cell_type": "code",
   "execution_count": 6,
   "metadata": {},
   "outputs": [
    {
     "name": "stdout",
     "output_type": "stream",
     "text": [
      "{\n",
      "    Position: [I; 0, 2], \n",
      "    DataVersion: 2730, \n",
      "    Entities: [\n",
      "        {\n",
      "            Motion: [0.0d, 0.0d, 0.0d], \n",
      "            data: {}, \n",
      "            Invulnerable: 0b, \n",
      "            Air: 300s, \n",
      "            OnGround: 0b, \n",
      "            PortalCooldown: 0, \n",
      "            Rotation: [0.0f, 0.0f], \n",
      "            FallDistance: 0.0f, \n",
      "            Pos: [15.768591211414549d, 80.97479040622704d, 45.62760742379422d], \n",
      "            Fire: 0s, \n",
      "            id: \"minecraft:marker\", \n",
      "            UUID: [I; -25431429, -1147649921, -2132246914, 1342339230], \n",
      "            Tags: [\"flammer\"]\n",
      "        }\n",
      "    ]\n",
      "}\n"
     ]
    }
   ],
   "source": [
    "mc.pretty(chunk_entities)"
   ]
  },
  {
   "cell_type": "code",
   "execution_count": 3,
   "metadata": {},
   "outputs": [],
   "source": [
    "def get_dimension_regions_and_entities(dimension: mc.Dimension) -> tuple[mc.Regions | dict, mc.Regions | dict]:\n",
    "    \"\"\"mcworld does not work for custom dimensions so to get them they will need to be temporarily renamed to replace THE_END or THE_NETHER\"\"\"\n",
    "    world = mc.load(PATH_DREHMAL_level_dat)\n",
    "    regions = world.regions[dimension]\n",
    "    print(\"Count of regions:\", len(regions))\n",
    "    entities = world.entities[dimension]\n",
    "    return regions, entities"
   ]
  },
  {
   "cell_type": "code",
   "execution_count": 4,
   "metadata": {},
   "outputs": [],
   "source": [
    "def coordinate_to_region(block_coordinate: int) -> int:\n",
    "    \"\"\"Convert coordinates to region in the same dimension.\n",
    "\n",
    "    :param block_coordinate: single x or z block coordinate\n",
    "    :return: x or z region coordinate\n",
    "    \"\"\"\n",
    "    return block_coordinate // 512"
   ]
  },
  {
   "cell_type": "code",
   "execution_count": 5,
   "metadata": {},
   "outputs": [],
   "source": [
    "# Save to JSON\n",
    "# Convert Numpy Arrays to useable\n",
    "class NumpyEncoder(json.JSONEncoder):\n",
    "    def default(self, obj):\n",
    "        if isinstance(obj, np.ndarray):\n",
    "            return obj.tolist()\n",
    "        return super().default(obj)\n",
    "    \n",
    "def save_to_json_data(file_name: str, data: list[dict]):\n",
    "    \"\"\"Save the data to a JSON file in the SAVE_DIRECTORY.\n",
    "\n",
    "    :param file_name: file name without .json\n",
    "    :param data: list of dict data\n",
    "    \"\"\"\n",
    "    save_path = SAVE_DIRECTORY / f\"{file_name}.json\"\n",
    "    with open(save_path, 'w') as f:\n",
    "        json.dump(data, f, cls=NumpyEncoder)"
   ]
  },
  {
   "cell_type": "markdown",
   "metadata": {},
   "source": [
    "## Tile Entities"
   ]
  },
  {
   "cell_type": "code",
   "execution_count": 6,
   "metadata": {},
   "outputs": [],
   "source": [
    "def tile_entity_has_items(tile_entity: nbtlib.tag.Compound) -> bool:\n",
    "    \"\"\"Does the tile entity have items in it, True or False.\n",
    "\n",
    "    False if no 'Items' tag or no items stored.\n",
    "\n",
    "    :param tile_entity: tile entity data\n",
    "    :return: True if items in entity\n",
    "    \"\"\"\n",
    "    if items := tile_entity.get(\"Items\", None):\n",
    "        if len(items) == 0:\n",
    "            return False\n",
    "        else:\n",
    "            return True\n",
    "    return False\n",
    "\n",
    "def is_desired_tile_entity(tile_entity: nbtlib.tag.Compound) -> bool:\n",
    "    \"\"\"Is the tile entity wanted, True or False.\n",
    "\n",
    "    Set values in ``TILE_ENTITIES`` sets above.\n",
    "\n",
    "    :param tile_entity: tile entity data\n",
    "    :return: True if wanted\n",
    "    \"\"\"\n",
    "    entity_id = tile_entity[\"id\"]\n",
    "    if entity_id in TILE_ENTITIES_ITEMS:\n",
    "        return tile_entity_has_items(tile_entity)\n",
    "    elif entity_id in TILE_ENTITIES_OTHER:\n",
    "        return True\n",
    "    elif entity_id in TILE_ENTITIES_BOOK:\n",
    "        if tile_entity.get(\"Book\", None):\n",
    "            # If there is a book in the lectern, it's good\n",
    "            return True\n",
    "        else:\n",
    "            return False\n",
    "    else:\n",
    "        return False\n",
    "\n",
    "def get_tile_entities_in_region(region: mc.RegionFile) -> list[dict]:\n",
    "    tile_entities = []\n",
    "\n",
    "    chunk_pos: mc.ChunkPos\n",
    "    chunk: mc.RegionChunk\n",
    "    for chunk_pos, chunk in region.items():\n",
    "        if \"Level\" not in chunk:\n",
    "            # possible to have empty chunks\n",
    "            continue\n",
    "        chunk_tile_entities = chunk[\"Level\"][\"TileEntities\"]\n",
    "        if len(chunk_tile_entities) == 0:\n",
    "            continue\n",
    "\n",
    "        # Determine if we want to keep the tile entity (has items, book, in set)\n",
    "        for tile_entity in chunk_tile_entities:\n",
    "            if is_desired_tile_entity(tile_entity):\n",
    "                tile_entities.append(tile_entity)\n",
    "    return tile_entities\n",
    "\n",
    "# def get_all_tile_entities_in_region_range(regions: mc.Regions, dimension_name: str,\n",
    "#                                           x_block_min: int, x_block_max: int,\n",
    "#                                           z_block_min: int, z_block_max: int) -> list:\n",
    "#     x_region_min = coordinate_to_region(x_block_min)\n",
    "#     x_region_max = coordinate_to_region(x_block_max)\n",
    "#     z_region_min = coordinate_to_region(z_block_min)\n",
    "#     z_region_max = coordinate_to_region(z_block_max)\n",
    "#    \n",
    "#     all_tile_entities = []\n",
    "#\n",
    "#     for x in range(x_region_min, x_region_max + 1):\n",
    "#         for z in range(z_region_min, z_region_max + 1):\n",
    "#             if x % 5 == 0 and z % 5 == 0:\n",
    "#                 print(f\"On region {x}, {z}\")\n",
    "#             current_region = regions[x, z]\n",
    "#             all_tile_entities.extend(get_tile_entities_in_region(current_region))\n",
    "#\n",
    "#     print(f\"# of tile entities: {len(all_tile_entities)}\")\n",
    "#     return all_tile_entities\n",
    "\n",
    "def get_all_tile_entities(regions: mc.Regions) -> list:\n",
    "    all_tile_entities = []\n",
    "\n",
    "    for i, (_, region_data) in enumerate(regions.items()):\n",
    "        if i % 100 == 0:\n",
    "            print(f\"On region {i + 1}\")\n",
    "        current_region = region_data\n",
    "        all_tile_entities.extend(get_tile_entities_in_region(current_region))\n",
    "\n",
    "    print(f\"# of tile entities: {len(all_tile_entities)}\")\n",
    "    return all_tile_entities"
   ]
  },
  {
   "cell_type": "code",
   "execution_count": 10,
   "metadata": {},
   "outputs": [
    {
     "name": "stdout",
     "output_type": "stream",
     "text": [
      "On region 1\n",
      "On region 101\n",
      "On region 201\n",
      "On region 301\n",
      "On region 401\n",
      "On region 501\n",
      "On region 601\n",
      "On region 701\n",
      "On region 801\n",
      "On region 901\n",
      "# of tile entities: 3680\n",
      "done\n"
     ]
    }
   ],
   "source": [
    "# overworld_tile_entities = get_all_tile_entities_in_region_range(\n",
    "#     regions,\n",
    "#     \"overworld\",\n",
    "#     COORDINATES[\"Overworld\"][\"x_min\"],\n",
    "#     COORDINATES[\"Overworld\"][\"x_max\"],\n",
    "#     COORDINATES[\"Overworld\"][\"z_min\"],\n",
    "#     COORDINATES[\"Overworld\"][\"z_max\"]\n",
    "# )\n",
    "overworld_tile_entities = get_all_tile_entities(regions)\n",
    "print(\"done\")"
   ]
  },
  {
   "cell_type": "code",
   "execution_count": 20,
   "metadata": {},
   "outputs": [],
   "source": [
    "save_to_json_data(\"overworld_tile_entities\", overworld_tile_entities)"
   ]
  },
  {
   "cell_type": "markdown",
   "metadata": {},
   "source": [
    "---\n",
    "## Entities\n",
    "Get actual entities including armor stands"
   ]
  },
  {
   "cell_type": "code",
   "execution_count": 7,
   "metadata": {},
   "outputs": [],
   "source": [
    "def get_entities_in_region(region: mc.RegionFile) -> list[dict]:\n",
    "    entities = []\n",
    "\n",
    "    chunk_pos: mc.ChunkPos\n",
    "    chunk: mc.RegionChunk\n",
    "    for chunk_pos, chunk in region.items():\n",
    "        if \"Entities\" not in chunk:\n",
    "            # possible to have empty\n",
    "            continue\n",
    "        chunk_entities = chunk[\"Entities\"]\n",
    "        if len(chunk_entities) == 0:\n",
    "            continue\n",
    "\n",
    "        # for entity in chunk_entities:\n",
    "        #     entities.append(entity)\n",
    "\n",
    "        # Add all entities, no filtering here\n",
    "        entities.extend(chunk_entities)\n",
    "    return entities\n",
    "\n",
    "\n",
    "def get_all_entities(entities: mc.Regions) -> list:\n",
    "    all_entities = []\n",
    "\n",
    "    for i, (_, region_data) in enumerate(entities.items()):\n",
    "        if i % 50 == 0:\n",
    "            print(f\"On region {i + 1}\")\n",
    "        all_entities.extend(get_entities_in_region(region_data))\n",
    "\n",
    "    print(f\"# of entities: {len(all_entities)}\")\n",
    "    return all_entities"
   ]
  },
  {
   "cell_type": "code",
   "execution_count": 24,
   "metadata": {},
   "outputs": [
    {
     "name": "stdout",
     "output_type": "stream",
     "text": [
      "<class 'mcworldlib.anvil.RegionFile'>\n",
      "{\n",
      "    \n",
      "}\n"
     ]
    }
   ],
   "source": [
    "print(type(entities[-1954,-1954]))\n",
    "mc.pretty(entities[-1954,-1954])"
   ]
  },
  {
   "cell_type": "code",
   "execution_count": 10,
   "metadata": {},
   "outputs": [
    {
     "name": "stdout",
     "output_type": "stream",
     "text": [
      "On region 1\n",
      "On region 51\n",
      "On region 101\n",
      "On region 151\n",
      "On region 201\n",
      "On region 251\n",
      "On region 301\n",
      "On region 351\n",
      "On region 401\n",
      "On region 451\n",
      "On region 501\n",
      "On region 551\n",
      "On region 601\n",
      "On region 651\n",
      "On region 701\n",
      "On region 751\n",
      "On region 801\n",
      "# of entities: 26136\n",
      "done\n"
     ]
    }
   ],
   "source": [
    "overworld_entities = get_all_entities(entities)\n",
    "print(\"done\")"
   ]
  },
  {
   "cell_type": "code",
   "execution_count": 11,
   "metadata": {},
   "outputs": [],
   "source": [
    "save_to_json_data(\"overworld_entities\", overworld_entities)"
   ]
  },
  {
   "cell_type": "markdown",
   "metadata": {},
   "source": [
    "---\n",
    "## Get all data for a dimension"
   ]
  },
  {
   "cell_type": "code",
   "execution_count": 10,
   "metadata": {},
   "outputs": [],
   "source": [
    "def get_all_data_for_dimension(mcworld_dim: mc.Dimension, dimension_override: str):\n",
    "    regions, entities = get_dimension_regions_and_entities(mcworld_dim)\n",
    "\n",
    "    t_start_tile_entities = time.perf_counter()\n",
    "    tile_entities = get_all_tile_entities(regions)\n",
    "    save_to_json_data(f\"{dimension_override}_tile_entities\", tile_entities)\n",
    "    t_elapsed_tile = time.perf_counter()-t_start_tile_entities\n",
    "    print(f\"Tile Entities time: {dt.timedelta(seconds=t_elapsed_tile)}\")\n",
    "\n",
    "    t_start_entities = time.perf_counter()\n",
    "    entities = get_all_entities(entities)\n",
    "    save_to_json_data(f\"{dimension_override}_entities\", entities)\n",
    "    t_elapsed_entity = time.perf_counter()-t_start_entities\n",
    "    print(f\"Entities time: {dt.timedelta(seconds=t_elapsed_entity)}\")\n",
    "    print(f\"Done extracting for {dimension_override}\")"
   ]
  },
  {
   "cell_type": "code",
   "execution_count": 14,
   "metadata": {},
   "outputs": [
    {
     "name": "stdout",
     "output_type": "stream",
     "text": [
      "Count of regions: 293\n",
      "On region 1\n",
      "On region 101\n",
      "On region 201\n",
      "# of tile entities: 813\n",
      "Tile Entities time: 0:01:05.087496\n",
      "On region 1\n",
      "On region 51\n",
      "On region 101\n",
      "On region 151\n",
      "On region 201\n",
      "On region 251\n",
      "On region 301\n",
      "On region 351\n",
      "On region 401\n",
      "On region 451\n",
      "# of entities: 5162\n",
      "Entities time: 0:00:04.642780\n",
      "Done extracting for lodahr\n"
     ]
    }
   ],
   "source": [
    "get_all_data_for_dimension(mc.Dimension.THE_END, \"lodahr\")"
   ]
  }
 ],
 "metadata": {
  "kernelspec": {
   "display_name": ".venv",
   "language": "python",
   "name": "python3"
  },
  "language_info": {
   "codemirror_mode": {
    "name": "ipython",
    "version": 3
   },
   "file_extension": ".py",
   "mimetype": "text/x-python",
   "name": "python",
   "nbconvert_exporter": "python",
   "pygments_lexer": "ipython3",
   "version": "3.12.3"
  }
 },
 "nbformat": 4,
 "nbformat_minor": 2
}
