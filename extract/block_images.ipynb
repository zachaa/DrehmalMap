{
 "cells": [
  {
   "cell_type": "code",
   "execution_count": 5,
   "metadata": {},
   "outputs": [],
   "source": [
    "from pathlib import Path\n",
    "from PIL import Image"
   ]
  },
  {
   "cell_type": "code",
   "execution_count": 6,
   "metadata": {},
   "outputs": [
    {
     "name": "stdout",
     "output_type": "stream",
     "text": [
      "True True True\n"
     ]
    }
   ],
   "source": [
    "PATH_INPUT_IMAGES = Path(r\"../data_raw/all inventory icon 1.21/1-21-MinecraftAllItemImagesV1/Transparent-Images\")\n",
    "PATH_RESIZE_IMAGES = Path(r\"../data_raw/all inventory icon 1.21/resized_images_32x\")\n",
    "PATH_OUTPUT_IMAGES = Path(r\"../images/icons\")\n",
    "print(PATH_INPUT_IMAGES.exists(), PATH_RESIZE_IMAGES.exists(), PATH_INPUT_IMAGES.exists())"
   ]
  },
  {
   "cell_type": "code",
   "execution_count": 7,
   "metadata": {},
   "outputs": [
    {
     "name": "stdout",
     "output_type": "stream",
     "text": [
      "609\n"
     ]
    }
   ],
   "source": [
    "def create_list_of_already_existing_images(file_path: Path) -> list[str]:\n",
    "    image_list = [image_file.stem for image_file in file_path.glob(\"*.png\")]\n",
    "    return image_list\n",
    "\n",
    "LIST_already_existing_images = create_list_of_already_existing_images(PATH_OUTPUT_IMAGES)\n",
    "print(len(LIST_already_existing_images))"
   ]
  },
  {
   "cell_type": "code",
   "execution_count": 8,
   "metadata": {},
   "outputs": [
    {
     "name": "stdout",
     "output_type": "stream",
     "text": [
      "Done\n"
     ]
    }
   ],
   "source": [
    "def create_list_of_already_existing_images(file_path: Path):\n",
    "    # List comprehension to find all .png files and remove the extension\n",
    "    image_list = [file.stem for file in file_path.glob(\"*.png\")]\n",
    "    return image_list\n",
    "\n",
    "def resize_images(input_dir: Path, output_dir: Path, image_list):\n",
    "    # Ensure the output directory exists\n",
    "    output_dir.mkdir(parents=True, exist_ok=True)\n",
    "    \n",
    "    # Loop through all PNG files in the input directory\n",
    "    for img_path in input_dir.glob(\"*.png\"):\n",
    "        img_name = img_path.stem\n",
    "        \n",
    "        # Skip images that are in the image_list\n",
    "        if img_name in image_list:\n",
    "            continue\n",
    "        \n",
    "        with Image.open(img_path) as img:\n",
    "            # Resize the image to 32x32\n",
    "            resized_img = img.resize((32, 32), Image.Resampling.LANCZOS)\n",
    "            resized_img.save(output_dir / f\"{img_name}.png\", optimize=True)\n",
    "\n",
    "resize_images(PATH_INPUT_IMAGES, PATH_OUTPUT_IMAGES, LIST_already_existing_images)\n",
    "print(\"Done\")"
   ]
  }
 ],
 "metadata": {
  "kernelspec": {
   "display_name": ".venv",
   "language": "python",
   "name": "python3"
  },
  "language_info": {
   "codemirror_mode": {
    "name": "ipython",
    "version": 3
   },
   "file_extension": ".py",
   "mimetype": "text/x-python",
   "name": "python",
   "nbconvert_exporter": "python",
   "pygments_lexer": "ipython3",
   "version": "3.12.3"
  }
 },
 "nbformat": 4,
 "nbformat_minor": 2
}
